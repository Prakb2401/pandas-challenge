{
 "cells": [
  {
   "cell_type": "code",
   "execution_count": 1,
   "id": "699ce113",
   "metadata": {},
   "outputs": [
    {
     "data": {
      "text/html": [
       "<div>\n",
       "<style scoped>\n",
       "    .dataframe tbody tr th:only-of-type {\n",
       "        vertical-align: middle;\n",
       "    }\n",
       "\n",
       "    .dataframe tbody tr th {\n",
       "        vertical-align: top;\n",
       "    }\n",
       "\n",
       "    .dataframe thead th {\n",
       "        text-align: right;\n",
       "    }\n",
       "</style>\n",
       "<table border=\"1\" class=\"dataframe\">\n",
       "  <thead>\n",
       "    <tr style=\"text-align: right;\">\n",
       "      <th></th>\n",
       "      <th>Purchase ID</th>\n",
       "      <th>SN</th>\n",
       "      <th>Age</th>\n",
       "      <th>Gender</th>\n",
       "      <th>Item ID</th>\n",
       "      <th>Item Name</th>\n",
       "      <th>Price</th>\n",
       "    </tr>\n",
       "  </thead>\n",
       "  <tbody>\n",
       "    <tr>\n",
       "      <th>0</th>\n",
       "      <td>0</td>\n",
       "      <td>Lisim78</td>\n",
       "      <td>20</td>\n",
       "      <td>Male</td>\n",
       "      <td>108</td>\n",
       "      <td>Extraction, Quickblade Of Trembling Hands</td>\n",
       "      <td>3.53</td>\n",
       "    </tr>\n",
       "    <tr>\n",
       "      <th>1</th>\n",
       "      <td>1</td>\n",
       "      <td>Lisovynya38</td>\n",
       "      <td>40</td>\n",
       "      <td>Male</td>\n",
       "      <td>143</td>\n",
       "      <td>Frenzied Scimitar</td>\n",
       "      <td>1.56</td>\n",
       "    </tr>\n",
       "    <tr>\n",
       "      <th>2</th>\n",
       "      <td>2</td>\n",
       "      <td>Ithergue48</td>\n",
       "      <td>24</td>\n",
       "      <td>Male</td>\n",
       "      <td>92</td>\n",
       "      <td>Final Critic</td>\n",
       "      <td>4.88</td>\n",
       "    </tr>\n",
       "    <tr>\n",
       "      <th>3</th>\n",
       "      <td>3</td>\n",
       "      <td>Chamassasya86</td>\n",
       "      <td>24</td>\n",
       "      <td>Male</td>\n",
       "      <td>100</td>\n",
       "      <td>Blindscythe</td>\n",
       "      <td>3.27</td>\n",
       "    </tr>\n",
       "    <tr>\n",
       "      <th>4</th>\n",
       "      <td>4</td>\n",
       "      <td>Iskosia90</td>\n",
       "      <td>23</td>\n",
       "      <td>Male</td>\n",
       "      <td>131</td>\n",
       "      <td>Fury</td>\n",
       "      <td>1.44</td>\n",
       "    </tr>\n",
       "    <tr>\n",
       "      <th>...</th>\n",
       "      <td>...</td>\n",
       "      <td>...</td>\n",
       "      <td>...</td>\n",
       "      <td>...</td>\n",
       "      <td>...</td>\n",
       "      <td>...</td>\n",
       "      <td>...</td>\n",
       "    </tr>\n",
       "    <tr>\n",
       "      <th>775</th>\n",
       "      <td>775</td>\n",
       "      <td>Aethedru70</td>\n",
       "      <td>21</td>\n",
       "      <td>Female</td>\n",
       "      <td>60</td>\n",
       "      <td>Wolf</td>\n",
       "      <td>3.54</td>\n",
       "    </tr>\n",
       "    <tr>\n",
       "      <th>776</th>\n",
       "      <td>776</td>\n",
       "      <td>Iral74</td>\n",
       "      <td>21</td>\n",
       "      <td>Male</td>\n",
       "      <td>164</td>\n",
       "      <td>Exiled Doomblade</td>\n",
       "      <td>1.63</td>\n",
       "    </tr>\n",
       "    <tr>\n",
       "      <th>777</th>\n",
       "      <td>777</td>\n",
       "      <td>Yathecal72</td>\n",
       "      <td>20</td>\n",
       "      <td>Male</td>\n",
       "      <td>67</td>\n",
       "      <td>Celeste, Incarnation of the Corrupted</td>\n",
       "      <td>3.46</td>\n",
       "    </tr>\n",
       "    <tr>\n",
       "      <th>778</th>\n",
       "      <td>778</td>\n",
       "      <td>Sisur91</td>\n",
       "      <td>7</td>\n",
       "      <td>Male</td>\n",
       "      <td>92</td>\n",
       "      <td>Final Critic</td>\n",
       "      <td>4.19</td>\n",
       "    </tr>\n",
       "    <tr>\n",
       "      <th>779</th>\n",
       "      <td>779</td>\n",
       "      <td>Ennrian78</td>\n",
       "      <td>24</td>\n",
       "      <td>Male</td>\n",
       "      <td>50</td>\n",
       "      <td>Dawn</td>\n",
       "      <td>4.60</td>\n",
       "    </tr>\n",
       "  </tbody>\n",
       "</table>\n",
       "<p>780 rows × 7 columns</p>\n",
       "</div>"
      ],
      "text/plain": [
       "     Purchase ID             SN  Age  Gender  Item ID  \\\n",
       "0              0        Lisim78   20    Male      108   \n",
       "1              1    Lisovynya38   40    Male      143   \n",
       "2              2     Ithergue48   24    Male       92   \n",
       "3              3  Chamassasya86   24    Male      100   \n",
       "4              4      Iskosia90   23    Male      131   \n",
       "..           ...            ...  ...     ...      ...   \n",
       "775          775     Aethedru70   21  Female       60   \n",
       "776          776         Iral74   21    Male      164   \n",
       "777          777     Yathecal72   20    Male       67   \n",
       "778          778        Sisur91    7    Male       92   \n",
       "779          779      Ennrian78   24    Male       50   \n",
       "\n",
       "                                     Item Name  Price  \n",
       "0    Extraction, Quickblade Of Trembling Hands   3.53  \n",
       "1                            Frenzied Scimitar   1.56  \n",
       "2                                 Final Critic   4.88  \n",
       "3                                  Blindscythe   3.27  \n",
       "4                                         Fury   1.44  \n",
       "..                                         ...    ...  \n",
       "775                                       Wolf   3.54  \n",
       "776                           Exiled Doomblade   1.63  \n",
       "777      Celeste, Incarnation of the Corrupted   3.46  \n",
       "778                               Final Critic   4.19  \n",
       "779                                       Dawn   4.60  \n",
       "\n",
       "[780 rows x 7 columns]"
      ]
     },
     "execution_count": 1,
     "metadata": {},
     "output_type": "execute_result"
    }
   ],
   "source": [
    "import pandas as pd\n",
    "import numpy as np\n",
    "file_to_load = \"Resources/purchase_data.csv\"\n",
    "\n",
    "purchase_data = pd.read_csv(file_to_load)\n",
    "purchase_df=pd.DataFrame(purchase_data)\n",
    "purchase_df"
   ]
  },
  {
   "cell_type": "code",
   "execution_count": 2,
   "id": "775635e1",
   "metadata": {},
   "outputs": [
    {
     "data": {
      "text/plain": [
       "576"
      ]
     },
     "execution_count": 2,
     "metadata": {},
     "output_type": "execute_result"
    }
   ],
   "source": [
    "count = purchase_df[\"SN\"].unique()\n",
    "Player_count = len(count)\n",
    "Player_count"
   ]
  },
  {
   "cell_type": "code",
   "execution_count": 3,
   "id": "3531e890",
   "metadata": {},
   "outputs": [
    {
     "data": {
      "text/html": [
       "<div>\n",
       "<style scoped>\n",
       "    .dataframe tbody tr th:only-of-type {\n",
       "        vertical-align: middle;\n",
       "    }\n",
       "\n",
       "    .dataframe tbody tr th {\n",
       "        vertical-align: top;\n",
       "    }\n",
       "\n",
       "    .dataframe thead th {\n",
       "        text-align: right;\n",
       "    }\n",
       "</style>\n",
       "<table border=\"1\" class=\"dataframe\">\n",
       "  <thead>\n",
       "    <tr style=\"text-align: right;\">\n",
       "      <th></th>\n",
       "      <th>Total Players</th>\n",
       "    </tr>\n",
       "  </thead>\n",
       "  <tbody>\n",
       "    <tr>\n",
       "      <th>0</th>\n",
       "      <td>576</td>\n",
       "    </tr>\n",
       "  </tbody>\n",
       "</table>\n",
       "</div>"
      ],
      "text/plain": [
       "   Total Players\n",
       "0            576"
      ]
     },
     "execution_count": 3,
     "metadata": {},
     "output_type": "execute_result"
    }
   ],
   "source": [
    "Total_Players = {\"Total Players\":Player_count}\n",
    "Total_Players_df = pd.DataFrame(Total_Players, index=[0])\n",
    "Total_Players_df"
   ]
  },
  {
   "cell_type": "code",
   "execution_count": 4,
   "id": "1768e2d3",
   "metadata": {},
   "outputs": [
    {
     "data": {
      "text/plain": [
       "179"
      ]
     },
     "execution_count": 4,
     "metadata": {},
     "output_type": "execute_result"
    }
   ],
   "source": [
    "items = purchase_df[\"Item Name\"].unique()\n",
    "Unique_items = len(items)\n",
    "Unique_items"
   ]
  },
  {
   "cell_type": "code",
   "execution_count": 5,
   "id": "ca435345",
   "metadata": {},
   "outputs": [
    {
     "data": {
      "text/plain": [
       "'$3.05'"
      ]
     },
     "execution_count": 5,
     "metadata": {},
     "output_type": "execute_result"
    }
   ],
   "source": [
    "average = purchase_df[\"Price\"].mean()\n",
    "# average\n",
    "average_currency = \"${:,.2f}\".format(average)\n",
    "average_currency"
   ]
  },
  {
   "cell_type": "code",
   "execution_count": 6,
   "id": "43fa7ce8",
   "metadata": {},
   "outputs": [
    {
     "data": {
      "text/plain": [
       "780"
      ]
     },
     "execution_count": 6,
     "metadata": {},
     "output_type": "execute_result"
    }
   ],
   "source": [
    "num_purchases = purchase_df[\"Item Name\"].count()\n",
    "num_purchases"
   ]
  },
  {
   "cell_type": "code",
   "execution_count": 7,
   "id": "3ad1c727",
   "metadata": {},
   "outputs": [
    {
     "data": {
      "text/plain": [
       "'$2,379.77'"
      ]
     },
     "execution_count": 7,
     "metadata": {},
     "output_type": "execute_result"
    }
   ],
   "source": [
    "revenue = purchase_df[\"Price\"].sum()\n",
    "# revenue\n",
    "Total_Revenue = \"${:,.2f}\".format(revenue)\n",
    "Total_Revenue"
   ]
  },
  {
   "cell_type": "code",
   "execution_count": 8,
   "id": "8c8c82fe",
   "metadata": {},
   "outputs": [
    {
     "data": {
      "text/html": [
       "<div>\n",
       "<style scoped>\n",
       "    .dataframe tbody tr th:only-of-type {\n",
       "        vertical-align: middle;\n",
       "    }\n",
       "\n",
       "    .dataframe tbody tr th {\n",
       "        vertical-align: top;\n",
       "    }\n",
       "\n",
       "    .dataframe thead th {\n",
       "        text-align: right;\n",
       "    }\n",
       "</style>\n",
       "<table border=\"1\" class=\"dataframe\">\n",
       "  <thead>\n",
       "    <tr style=\"text-align: right;\">\n",
       "      <th></th>\n",
       "      <th>Number of Unique Items</th>\n",
       "      <th>Average Price</th>\n",
       "      <th>Number of Purchases</th>\n",
       "      <th>Total Revenue</th>\n",
       "    </tr>\n",
       "  </thead>\n",
       "  <tbody>\n",
       "    <tr>\n",
       "      <th>0</th>\n",
       "      <td>179</td>\n",
       "      <td>$3.05</td>\n",
       "      <td>780</td>\n",
       "      <td>$2,379.77</td>\n",
       "    </tr>\n",
       "  </tbody>\n",
       "</table>\n",
       "</div>"
      ],
      "text/plain": [
       "   Number of Unique Items Average Price  Number of Purchases Total Revenue\n",
       "0                     179         $3.05                  780     $2,379.77"
      ]
     },
     "execution_count": 8,
     "metadata": {},
     "output_type": "execute_result"
    }
   ],
   "source": [
    "Purchasing_Analysis = {\"Number of Unique Items\":Unique_items,\n",
    "                      \"Average Price\":average_currency,\n",
    "                      \"Number of Purchases\":num_purchases,\n",
    "                      \"Total Revenue\":Total_Revenue}\n",
    "Purchasing_Analysis_df = pd.DataFrame(Purchasing_Analysis, index=[0])\n",
    "Purchasing_Analysis_df"
   ]
  },
  {
   "cell_type": "code",
   "execution_count": 9,
   "id": "ac4e0aa6",
   "metadata": {},
   "outputs": [],
   "source": [
    "male_count = purchase_df.loc[(purchase_df[\"Gender\"] == \"Male\"), :]\n",
    "# male\n",
    "female_count = purchase_df.loc[(purchase_df[\"Gender\"] == \"Female\"), :]\n",
    "# female\n",
    "other_count = purchase_df.loc[(purchase_df[\"Gender\"] == \"Other / Non-Disclosed\"), :]\n",
    "# other"
   ]
  },
  {
   "cell_type": "code",
   "execution_count": 10,
   "id": "0ef1b253",
   "metadata": {},
   "outputs": [],
   "source": [
    "total_male = len(male_count[\"SN\"].unique())\n",
    "# total_male\n",
    "total_female = len(female_count[\"SN\"].unique())\n",
    "# total_female\n",
    "total_other = len(other_count[\"SN\"].unique())\n",
    "# total_other"
   ]
  },
  {
   "cell_type": "code",
   "execution_count": 11,
   "id": "064b3e59",
   "metadata": {},
   "outputs": [
    {
     "data": {
      "text/plain": [
       "84.03"
      ]
     },
     "execution_count": 11,
     "metadata": {},
     "output_type": "execute_result"
    }
   ],
   "source": [
    "percent_male = (total_male/Player_count)*100\n",
    "percent_male_round = round(percent_male,2)\n",
    "percent_male_round\n"
   ]
  },
  {
   "cell_type": "code",
   "execution_count": 12,
   "id": "0d163d67",
   "metadata": {},
   "outputs": [
    {
     "data": {
      "text/plain": [
       "14.06"
      ]
     },
     "execution_count": 12,
     "metadata": {},
     "output_type": "execute_result"
    }
   ],
   "source": [
    "percent_female = (total_female/Player_count)*100\n",
    "percent_female_round = round(percent_female,2)\n",
    "percent_female_round"
   ]
  },
  {
   "cell_type": "code",
   "execution_count": 13,
   "id": "0ead6cbe",
   "metadata": {},
   "outputs": [
    {
     "data": {
      "text/plain": [
       "1.91"
      ]
     },
     "execution_count": 13,
     "metadata": {},
     "output_type": "execute_result"
    }
   ],
   "source": [
    "percent_other = (total_other/Player_count)*100\n",
    "percent_other_round = round(percent_other,2)\n",
    "percent_other_round"
   ]
  },
  {
   "cell_type": "code",
   "execution_count": 14,
   "id": "ab18d758",
   "metadata": {},
   "outputs": [],
   "source": [
    "total_gender = [total_male, total_female, total_other]\n",
    "total_percent = [percent_male_round, percent_female_round, percent_other_round]\n"
   ]
  },
  {
   "cell_type": "code",
   "execution_count": 15,
   "id": "8e32d0e7",
   "metadata": {},
   "outputs": [
    {
     "data": {
      "text/html": [
       "<div>\n",
       "<style scoped>\n",
       "    .dataframe tbody tr th:only-of-type {\n",
       "        vertical-align: middle;\n",
       "    }\n",
       "\n",
       "    .dataframe tbody tr th {\n",
       "        vertical-align: top;\n",
       "    }\n",
       "\n",
       "    .dataframe thead th {\n",
       "        text-align: right;\n",
       "    }\n",
       "</style>\n",
       "<table border=\"1\" class=\"dataframe\">\n",
       "  <thead>\n",
       "    <tr style=\"text-align: right;\">\n",
       "      <th></th>\n",
       "      <th>Total Count</th>\n",
       "      <th>Percentage of Players</th>\n",
       "    </tr>\n",
       "    <tr>\n",
       "      <th>Gender</th>\n",
       "      <th></th>\n",
       "      <th></th>\n",
       "    </tr>\n",
       "  </thead>\n",
       "  <tbody>\n",
       "    <tr>\n",
       "      <th>Female</th>\n",
       "      <td>484</td>\n",
       "      <td>84.03%</td>\n",
       "    </tr>\n",
       "    <tr>\n",
       "      <th>Male</th>\n",
       "      <td>81</td>\n",
       "      <td>14.06%</td>\n",
       "    </tr>\n",
       "    <tr>\n",
       "      <th>Other / Non-Disclosed</th>\n",
       "      <td>11</td>\n",
       "      <td>1.91%</td>\n",
       "    </tr>\n",
       "  </tbody>\n",
       "</table>\n",
       "</div>"
      ],
      "text/plain": [
       "                       Total Count Percentage of Players\n",
       "Gender                                                  \n",
       "Female                         484                84.03%\n",
       "Male                            81                14.06%\n",
       "Other / Non-Disclosed           11                 1.91%"
      ]
     },
     "execution_count": 15,
     "metadata": {},
     "output_type": "execute_result"
    }
   ],
   "source": [
    "genders_df = pd.DataFrame(purchase_df.groupby(\"Gender\").sum())\n",
    "genders_df[\"Total Count\"] = total_gender\n",
    "genders_df[\"Percentage of Players\"] = total_percent\n",
    "genders_df[\"Percentage of Players\"] = genders_df[\"Percentage of Players\"].map(\"{:,.2f}%\".format)\n",
    "genders_df = genders_df[[\"Total Count\",\"Percentage of Players\"]]\n",
    "genders_df"
   ]
  },
  {
   "cell_type": "code",
   "execution_count": 16,
   "id": "a02f305d",
   "metadata": {},
   "outputs": [],
   "source": [
    "male_purchase= male_count[\"Purchase ID\"].count()\n",
    "# male_purchase\n",
    "female_purchase = female_count[\"Purchase ID\"].count()\n",
    "# female_purchase\n",
    "other_purchase = other_count[\"Purchase ID\"].count()\n",
    "# other_purchase"
   ]
  },
  {
   "cell_type": "code",
   "execution_count": 17,
   "id": "84897ac2",
   "metadata": {},
   "outputs": [],
   "source": [
    "purchase_male = male_count[\"Price\"].sum()\n",
    "# purchase_male\n",
    "purchase_female = female_count[\"Price\"].sum()\n",
    "# purchase_female\n",
    "purchase_other = other_count[\"Price\"].sum()\n",
    "# purchase_other"
   ]
  },
  {
   "cell_type": "code",
   "execution_count": 18,
   "id": "6f75c8ea",
   "metadata": {},
   "outputs": [],
   "source": [
    "average_male = purchase_male / total_male\n",
    "# average_male\n",
    "average_male_round = round(average_male,2)\n",
    "# average_male_round"
   ]
  },
  {
   "cell_type": "code",
   "execution_count": 19,
   "id": "7336f9ef",
   "metadata": {},
   "outputs": [
    {
     "data": {
      "text/plain": [
       "4.47"
      ]
     },
     "execution_count": 19,
     "metadata": {},
     "output_type": "execute_result"
    }
   ],
   "source": [
    "average_female = purchase_female / total_female\n",
    "# average_female\n",
    "average_female_round = round(average_female,2)\n",
    "average_female_round"
   ]
  },
  {
   "cell_type": "code",
   "execution_count": 20,
   "id": "03aff3df",
   "metadata": {},
   "outputs": [
    {
     "data": {
      "text/plain": [
       "4.56"
      ]
     },
     "execution_count": 20,
     "metadata": {},
     "output_type": "execute_result"
    }
   ],
   "source": [
    "average_other = purchase_other / total_other\n",
    "# average_other\n",
    "average_other_round = round(average_other,2)\n",
    "average_other_round"
   ]
  },
  {
   "cell_type": "code",
   "execution_count": 21,
   "id": "01be3e87",
   "metadata": {},
   "outputs": [
    {
     "data": {
      "text/plain": [
       "3.02"
      ]
     },
     "execution_count": 21,
     "metadata": {},
     "output_type": "execute_result"
    }
   ],
   "source": [
    "avg_male = male_count[\"Price\"].mean()\n",
    "# avg_male\n",
    "avg_male_round = round(avg_male,2)\n",
    "avg_male_round"
   ]
  },
  {
   "cell_type": "code",
   "execution_count": 22,
   "id": "b471482d",
   "metadata": {},
   "outputs": [
    {
     "data": {
      "text/plain": [
       "3.203"
      ]
     },
     "execution_count": 22,
     "metadata": {},
     "output_type": "execute_result"
    }
   ],
   "source": [
    "avg_female = female_count[\"Price\"].mean()\n",
    "# avg_female\n",
    "avg_female_round = round(avg_female,3)\n",
    "avg_female_round"
   ]
  },
  {
   "cell_type": "code",
   "execution_count": 23,
   "id": "d27dfd77",
   "metadata": {},
   "outputs": [
    {
     "data": {
      "text/plain": [
       "3.35"
      ]
     },
     "execution_count": 23,
     "metadata": {},
     "output_type": "execute_result"
    }
   ],
   "source": [
    "avg_other = other_count[\"Price\"].mean()\n",
    "# avg_other\n",
    "avg_other_round = round(avg_other,2)\n",
    "avg_other_round"
   ]
  },
  {
   "cell_type": "code",
   "execution_count": 24,
   "id": "076cdb4d",
   "metadata": {},
   "outputs": [],
   "source": [
    "Purchase_Count = [female_purchase, male_purchase, other_purchase]\n",
    "Total_Purchase = [purchase_female, purchase_male, purchase_other]\n",
    "Average_per = [average_female, average_male, average_other]\n",
    "Average_Purchase_Price = [avg_female_round, avg_male_round, avg_other_round]"
   ]
  },
  {
   "cell_type": "code",
   "execution_count": 25,
   "id": "b1b255f8",
   "metadata": {},
   "outputs": [
    {
     "data": {
      "text/html": [
       "<div>\n",
       "<style scoped>\n",
       "    .dataframe tbody tr th:only-of-type {\n",
       "        vertical-align: middle;\n",
       "    }\n",
       "\n",
       "    .dataframe tbody tr th {\n",
       "        vertical-align: top;\n",
       "    }\n",
       "\n",
       "    .dataframe thead th {\n",
       "        text-align: right;\n",
       "    }\n",
       "</style>\n",
       "<table border=\"1\" class=\"dataframe\">\n",
       "  <thead>\n",
       "    <tr style=\"text-align: right;\">\n",
       "      <th></th>\n",
       "      <th>Purchase Count</th>\n",
       "      <th>Average Purchase Price</th>\n",
       "      <th>Total Purchase Value</th>\n",
       "      <th>Avg Total Purchase per Person</th>\n",
       "    </tr>\n",
       "    <tr>\n",
       "      <th>Gender</th>\n",
       "      <th></th>\n",
       "      <th></th>\n",
       "      <th></th>\n",
       "      <th></th>\n",
       "    </tr>\n",
       "  </thead>\n",
       "  <tbody>\n",
       "    <tr>\n",
       "      <th>Female</th>\n",
       "      <td>113</td>\n",
       "      <td>3.203</td>\n",
       "      <td>361.94</td>\n",
       "      <td>4.468395</td>\n",
       "    </tr>\n",
       "    <tr>\n",
       "      <th>Male</th>\n",
       "      <td>652</td>\n",
       "      <td>3.020</td>\n",
       "      <td>1967.64</td>\n",
       "      <td>4.065372</td>\n",
       "    </tr>\n",
       "    <tr>\n",
       "      <th>Other / Non-Disclosed</th>\n",
       "      <td>15</td>\n",
       "      <td>3.350</td>\n",
       "      <td>50.19</td>\n",
       "      <td>4.562727</td>\n",
       "    </tr>\n",
       "  </tbody>\n",
       "</table>\n",
       "</div>"
      ],
      "text/plain": [
       "                       Purchase Count  Average Purchase Price  \\\n",
       "Gender                                                          \n",
       "Female                            113                   3.203   \n",
       "Male                              652                   3.020   \n",
       "Other / Non-Disclosed              15                   3.350   \n",
       "\n",
       "                       Total Purchase Value  Avg Total Purchase per Person  \n",
       "Gender                                                                      \n",
       "Female                               361.94                       4.468395  \n",
       "Male                                1967.64                       4.065372  \n",
       "Other / Non-Disclosed                 50.19                       4.562727  "
      ]
     },
     "execution_count": 25,
     "metadata": {},
     "output_type": "execute_result"
    }
   ],
   "source": [
    "purchasing_analysis = pd.DataFrame(purchase_df.groupby(\"Gender\").mean())\n",
    "purchasing_analysis[\"Purchase Count\"] = Purchase_Count\n",
    "purchasing_analysis[\"Average Purchase Price\"] = Average_Purchase_Price\n",
    "purchasing_analysis[\"Total Purchase Value\"] = Total_Purchase\n",
    "purchasing_analysis[\"Avg Total Purchase per Person\"] = Average_per\n",
    "purchasing_analysis = purchasing_analysis[[\"Purchase Count\",\"Average Purchase Price\",\"Total Purchase Value\",\"Avg Total Purchase per Person\"]]\n",
    "purchasing_analysis"
   ]
  },
  {
   "cell_type": "code",
   "execution_count": 26,
   "id": "ab131fca",
   "metadata": {},
   "outputs": [
    {
     "data": {
      "text/html": [
       "<div>\n",
       "<style scoped>\n",
       "    .dataframe tbody tr th:only-of-type {\n",
       "        vertical-align: middle;\n",
       "    }\n",
       "\n",
       "    .dataframe tbody tr th {\n",
       "        vertical-align: top;\n",
       "    }\n",
       "\n",
       "    .dataframe thead th {\n",
       "        text-align: right;\n",
       "    }\n",
       "</style>\n",
       "<table border=\"1\" class=\"dataframe\">\n",
       "  <thead>\n",
       "    <tr style=\"text-align: right;\">\n",
       "      <th></th>\n",
       "      <th>Purchase Count</th>\n",
       "      <th>Average Purchase Price</th>\n",
       "      <th>Total Purchase Value</th>\n",
       "      <th>Avg Total Purchase per Person</th>\n",
       "    </tr>\n",
       "    <tr>\n",
       "      <th>Gender</th>\n",
       "      <th></th>\n",
       "      <th></th>\n",
       "      <th></th>\n",
       "      <th></th>\n",
       "    </tr>\n",
       "  </thead>\n",
       "  <tbody>\n",
       "    <tr>\n",
       "      <th>Female</th>\n",
       "      <td>113</td>\n",
       "      <td>3.203</td>\n",
       "      <td>361.94</td>\n",
       "      <td>4.468395</td>\n",
       "    </tr>\n",
       "    <tr>\n",
       "      <th>Male</th>\n",
       "      <td>652</td>\n",
       "      <td>3.020</td>\n",
       "      <td>1967.64</td>\n",
       "      <td>4.065372</td>\n",
       "    </tr>\n",
       "    <tr>\n",
       "      <th>Other / Non-Disclosed</th>\n",
       "      <td>15</td>\n",
       "      <td>3.350</td>\n",
       "      <td>50.19</td>\n",
       "      <td>4.562727</td>\n",
       "    </tr>\n",
       "  </tbody>\n",
       "</table>\n",
       "</div>"
      ],
      "text/plain": [
       "                       Purchase Count  Average Purchase Price  \\\n",
       "Gender                                                          \n",
       "Female                            113                   3.203   \n",
       "Male                              652                   3.020   \n",
       "Other / Non-Disclosed              15                   3.350   \n",
       "\n",
       "                       Total Purchase Value  Avg Total Purchase per Person  \n",
       "Gender                                                                      \n",
       "Female                               361.94                       4.468395  \n",
       "Male                                1967.64                       4.065372  \n",
       "Other / Non-Disclosed                 50.19                       4.562727  "
      ]
     },
     "execution_count": 26,
     "metadata": {},
     "output_type": "execute_result"
    }
   ],
   "source": [
    "# purchasing_analysis[\"Average Purchase Price\"] = purchasing_analysis[\"Average Purchase Price\"].map(\"${:,.2f}\".format)\n",
    "# purchasing_analysis[\"Total Purchase Value\"] = purchasing_analysis[\"Total Purchase Value\"].map(\"${:,.2f}\".format)\n",
    "# purchasing_analysis[\"Avg Total Purchase per Person\"] = purchasing_analysis[\"Avg Total Purchase per Person\"].map(\"${:,.2f}\".format)\n",
    "purchasing_analysis"
   ]
  },
  {
   "cell_type": "code",
   "execution_count": 27,
   "id": "b8ac2a78",
   "metadata": {},
   "outputs": [
    {
     "data": {
      "text/html": [
       "<div>\n",
       "<style scoped>\n",
       "    .dataframe tbody tr th:only-of-type {\n",
       "        vertical-align: middle;\n",
       "    }\n",
       "\n",
       "    .dataframe tbody tr th {\n",
       "        vertical-align: top;\n",
       "    }\n",
       "\n",
       "    .dataframe thead th {\n",
       "        text-align: right;\n",
       "    }\n",
       "</style>\n",
       "<table border=\"1\" class=\"dataframe\">\n",
       "  <thead>\n",
       "    <tr style=\"text-align: right;\">\n",
       "      <th></th>\n",
       "      <th>Total Count</th>\n",
       "      <th>SN</th>\n",
       "    </tr>\n",
       "  </thead>\n",
       "  <tbody>\n",
       "    <tr>\n",
       "      <th>0</th>\n",
       "      <td>20-24</td>\n",
       "      <td>Lisim78</td>\n",
       "    </tr>\n",
       "    <tr>\n",
       "      <th>1</th>\n",
       "      <td>40+</td>\n",
       "      <td>Lisovynya38</td>\n",
       "    </tr>\n",
       "    <tr>\n",
       "      <th>2</th>\n",
       "      <td>20-24</td>\n",
       "      <td>Ithergue48</td>\n",
       "    </tr>\n",
       "    <tr>\n",
       "      <th>3</th>\n",
       "      <td>20-24</td>\n",
       "      <td>Chamassasya86</td>\n",
       "    </tr>\n",
       "    <tr>\n",
       "      <th>4</th>\n",
       "      <td>20-24</td>\n",
       "      <td>Iskosia90</td>\n",
       "    </tr>\n",
       "    <tr>\n",
       "      <th>...</th>\n",
       "      <td>...</td>\n",
       "      <td>...</td>\n",
       "    </tr>\n",
       "    <tr>\n",
       "      <th>773</th>\n",
       "      <td>20-24</td>\n",
       "      <td>Hala31</td>\n",
       "    </tr>\n",
       "    <tr>\n",
       "      <th>774</th>\n",
       "      <td>10-14</td>\n",
       "      <td>Jiskjask80</td>\n",
       "    </tr>\n",
       "    <tr>\n",
       "      <th>775</th>\n",
       "      <td>20-24</td>\n",
       "      <td>Aethedru70</td>\n",
       "    </tr>\n",
       "    <tr>\n",
       "      <th>777</th>\n",
       "      <td>20-24</td>\n",
       "      <td>Yathecal72</td>\n",
       "    </tr>\n",
       "    <tr>\n",
       "      <th>778</th>\n",
       "      <td>&lt;10</td>\n",
       "      <td>Sisur91</td>\n",
       "    </tr>\n",
       "  </tbody>\n",
       "</table>\n",
       "<p>576 rows × 2 columns</p>\n",
       "</div>"
      ],
      "text/plain": [
       "    Total Count             SN\n",
       "0         20-24        Lisim78\n",
       "1           40+    Lisovynya38\n",
       "2         20-24     Ithergue48\n",
       "3         20-24  Chamassasya86\n",
       "4         20-24      Iskosia90\n",
       "..          ...            ...\n",
       "773       20-24         Hala31\n",
       "774       10-14     Jiskjask80\n",
       "775       20-24     Aethedru70\n",
       "777       20-24     Yathecal72\n",
       "778         <10        Sisur91\n",
       "\n",
       "[576 rows x 2 columns]"
      ]
     },
     "execution_count": 27,
     "metadata": {},
     "output_type": "execute_result"
    }
   ],
   "source": [
    "bins = [0, 9, 14, 19, 24, 29, 34, 39, 150]\n",
    "group_names = ['<10', '10-14', '15-19', '20-24', '25-29', '30-34', '35-39', '40+']\n",
    "purchase_df[\"Total Count\"] = pd.cut(purchase_df[\"Age\"], bins, labels=group_names)\n",
    "age_demo = purchase_df[['Total Count','SN']].drop_duplicates(subset = 'SN')\n",
    "age_demo"
   ]
  },
  {
   "cell_type": "code",
   "execution_count": 28,
   "id": "b5a84957",
   "metadata": {},
   "outputs": [
    {
     "data": {
      "text/plain": [
       "Total Count\n",
       "<10       17\n",
       "10-14     22\n",
       "15-19    107\n",
       "20-24    258\n",
       "25-29     77\n",
       "30-34     52\n",
       "35-39     31\n",
       "40+       12\n",
       "Name: SN, dtype: int64"
      ]
     },
     "execution_count": 28,
     "metadata": {},
     "output_type": "execute_result"
    }
   ],
   "source": [
    "age_demo1 = age_demo.groupby(\"Total Count\").count()\n",
    "total_age = age_demo1['SN']\n",
    "total_age"
   ]
  },
  {
   "cell_type": "code",
   "execution_count": 29,
   "id": "dc9b6e67",
   "metadata": {},
   "outputs": [
    {
     "data": {
      "text/plain": [
       "Total Count\n",
       "<10       2.95\n",
       "10-14     3.82\n",
       "15-19    18.58\n",
       "20-24    44.79\n",
       "25-29    13.37\n",
       "30-34     9.03\n",
       "35-39     5.38\n",
       "40+       2.08\n",
       "Name: SN, dtype: float64"
      ]
     },
     "execution_count": 29,
     "metadata": {},
     "output_type": "execute_result"
    }
   ],
   "source": [
    "age_percent = (total_age / Player_count) * 100\n",
    "# age_percent\n",
    "age_percent_round = round(age_percent,2)\n",
    "age_percent_round"
   ]
  },
  {
   "cell_type": "code",
   "execution_count": 30,
   "id": "04fa5b33",
   "metadata": {},
   "outputs": [
    {
     "data": {
      "text/html": [
       "<div>\n",
       "<style scoped>\n",
       "    .dataframe tbody tr th:only-of-type {\n",
       "        vertical-align: middle;\n",
       "    }\n",
       "\n",
       "    .dataframe tbody tr th {\n",
       "        vertical-align: top;\n",
       "    }\n",
       "\n",
       "    .dataframe thead th {\n",
       "        text-align: right;\n",
       "    }\n",
       "</style>\n",
       "<table border=\"1\" class=\"dataframe\">\n",
       "  <thead>\n",
       "    <tr style=\"text-align: right;\">\n",
       "      <th></th>\n",
       "      <th>Total Count</th>\n",
       "      <th>Percentage of Players</th>\n",
       "    </tr>\n",
       "    <tr>\n",
       "      <th>Total Count</th>\n",
       "      <th></th>\n",
       "      <th></th>\n",
       "    </tr>\n",
       "  </thead>\n",
       "  <tbody>\n",
       "    <tr>\n",
       "      <th>&lt;10</th>\n",
       "      <td>17.0</td>\n",
       "      <td>2.95</td>\n",
       "    </tr>\n",
       "    <tr>\n",
       "      <th>10-14</th>\n",
       "      <td>22.0</td>\n",
       "      <td>3.82</td>\n",
       "    </tr>\n",
       "    <tr>\n",
       "      <th>15-19</th>\n",
       "      <td>107.0</td>\n",
       "      <td>18.58</td>\n",
       "    </tr>\n",
       "    <tr>\n",
       "      <th>20-24</th>\n",
       "      <td>258.0</td>\n",
       "      <td>44.79</td>\n",
       "    </tr>\n",
       "    <tr>\n",
       "      <th>25-29</th>\n",
       "      <td>77.0</td>\n",
       "      <td>13.37</td>\n",
       "    </tr>\n",
       "  </tbody>\n",
       "</table>\n",
       "</div>"
      ],
      "text/plain": [
       "             Total Count  Percentage of Players\n",
       "Total Count                                    \n",
       "<10                 17.0                   2.95\n",
       "10-14               22.0                   3.82\n",
       "15-19              107.0                  18.58\n",
       "20-24              258.0                  44.79\n",
       "25-29               77.0                  13.37"
      ]
     },
     "execution_count": 30,
     "metadata": {},
     "output_type": "execute_result"
    }
   ],
   "source": [
    "Age_Demo2 = pd.DataFrame([total_age, age_percent_round])\n",
    "# Age_Demo2\n",
    "Age_Demographic = Age_Demo2.transpose()\n",
    "Age_Demographic.columns = ['Total Count', 'Percentage of Players']\n",
    "Age_Demographic.head()"
   ]
  },
  {
   "cell_type": "code",
   "execution_count": 32,
   "id": "9ecaf177",
   "metadata": {},
   "outputs": [],
   "source": [
    "purchase_df[\"Total Count\"] = pd.cut(purchase_df[\"Age\"], bins, labels = group_names)\n",
    "age_analysis1 = purchase_df[['Total Count','SN', 'Price']]\n"
   ]
  },
  {
   "cell_type": "code",
   "execution_count": 33,
   "id": "e8c7feab",
   "metadata": {},
   "outputs": [],
   "source": [
    "age_analysis2 = age_analysis1.groupby(\"Total Count\")\n",
    "Purchase_Counts = age_analysis2[\"Price\"].count()\n"
   ]
  },
  {
   "cell_type": "code",
   "execution_count": 34,
   "id": "5c9c1be9",
   "metadata": {},
   "outputs": [],
   "source": [
    "average_count = age_analysis2[\"Price\"].mean()"
   ]
  },
  {
   "cell_type": "code",
   "execution_count": 35,
   "id": "bf12a692",
   "metadata": {},
   "outputs": [],
   "source": [
    "total_purch = age_analysis2[\"Price\"].sum()"
   ]
  },
  {
   "cell_type": "code",
   "execution_count": 36,
   "id": "e33681af",
   "metadata": {},
   "outputs": [],
   "source": [
    "purchases_per = total_purch/total_age"
   ]
  },
  {
   "cell_type": "code",
   "execution_count": 40,
   "id": "2c039d1f",
   "metadata": {},
   "outputs": [
    {
     "data": {
      "text/html": [
       "<div>\n",
       "<style scoped>\n",
       "    .dataframe tbody tr th:only-of-type {\n",
       "        vertical-align: middle;\n",
       "    }\n",
       "\n",
       "    .dataframe tbody tr th {\n",
       "        vertical-align: top;\n",
       "    }\n",
       "\n",
       "    .dataframe thead th {\n",
       "        text-align: right;\n",
       "    }\n",
       "</style>\n",
       "<table border=\"1\" class=\"dataframe\">\n",
       "  <thead>\n",
       "    <tr style=\"text-align: right;\">\n",
       "      <th>Total Count</th>\n",
       "      <th>&lt;10</th>\n",
       "      <th>10-14</th>\n",
       "      <th>15-19</th>\n",
       "      <th>20-24</th>\n",
       "      <th>25-29</th>\n",
       "      <th>30-34</th>\n",
       "      <th>35-39</th>\n",
       "      <th>40+</th>\n",
       "    </tr>\n",
       "  </thead>\n",
       "  <tbody>\n",
       "    <tr>\n",
       "      <th>Price</th>\n",
       "      <td>23.000000</td>\n",
       "      <td>28.000000</td>\n",
       "      <td>136.000000</td>\n",
       "      <td>365.000000</td>\n",
       "      <td>101.000000</td>\n",
       "      <td>73.000000</td>\n",
       "      <td>41.000000</td>\n",
       "      <td>13.000000</td>\n",
       "    </tr>\n",
       "    <tr>\n",
       "      <th>Price</th>\n",
       "      <td>3.353478</td>\n",
       "      <td>2.956429</td>\n",
       "      <td>3.035956</td>\n",
       "      <td>3.052219</td>\n",
       "      <td>2.900990</td>\n",
       "      <td>2.931507</td>\n",
       "      <td>3.601707</td>\n",
       "      <td>2.941538</td>\n",
       "    </tr>\n",
       "    <tr>\n",
       "      <th>Price</th>\n",
       "      <td>77.130000</td>\n",
       "      <td>82.780000</td>\n",
       "      <td>412.890000</td>\n",
       "      <td>1114.060000</td>\n",
       "      <td>293.000000</td>\n",
       "      <td>214.000000</td>\n",
       "      <td>147.670000</td>\n",
       "      <td>38.240000</td>\n",
       "    </tr>\n",
       "    <tr>\n",
       "      <th>Unnamed 0</th>\n",
       "      <td>4.537059</td>\n",
       "      <td>3.762727</td>\n",
       "      <td>3.858785</td>\n",
       "      <td>4.318062</td>\n",
       "      <td>3.805195</td>\n",
       "      <td>4.115385</td>\n",
       "      <td>4.763548</td>\n",
       "      <td>3.186667</td>\n",
       "    </tr>\n",
       "  </tbody>\n",
       "</table>\n",
       "</div>"
      ],
      "text/plain": [
       "Total Count        <10      10-14       15-19        20-24       25-29  \\\n",
       "Price        23.000000  28.000000  136.000000   365.000000  101.000000   \n",
       "Price         3.353478   2.956429    3.035956     3.052219    2.900990   \n",
       "Price        77.130000  82.780000  412.890000  1114.060000  293.000000   \n",
       "Unnamed 0     4.537059   3.762727    3.858785     4.318062    3.805195   \n",
       "\n",
       "Total Count       30-34       35-39        40+  \n",
       "Price         73.000000   41.000000  13.000000  \n",
       "Price          2.931507    3.601707   2.941538  \n",
       "Price        214.000000  147.670000  38.240000  \n",
       "Unnamed 0      4.115385    4.763548   3.186667  "
      ]
     },
     "execution_count": 40,
     "metadata": {},
     "output_type": "execute_result"
    }
   ],
   "source": [
    "Age_Analysis_df = pd.DataFrame([Purchase_Counts, average_count, total_purch, purchases_per])\n",
    "Age_Analysis_df"
   ]
  },
  {
   "cell_type": "code",
   "execution_count": 49,
   "id": "e9581a97",
   "metadata": {},
   "outputs": [
    {
     "data": {
      "text/html": [
       "<div>\n",
       "<style scoped>\n",
       "    .dataframe tbody tr th:only-of-type {\n",
       "        vertical-align: middle;\n",
       "    }\n",
       "\n",
       "    .dataframe tbody tr th {\n",
       "        vertical-align: top;\n",
       "    }\n",
       "\n",
       "    .dataframe thead th {\n",
       "        text-align: right;\n",
       "    }\n",
       "</style>\n",
       "<table border=\"1\" class=\"dataframe\">\n",
       "  <thead>\n",
       "    <tr style=\"text-align: right;\">\n",
       "      <th></th>\n",
       "      <th>Purchase Count</th>\n",
       "      <th>Average Purchase Price</th>\n",
       "      <th>Total Purchase Value</th>\n",
       "      <th>Avg Total Purchase per Person</th>\n",
       "    </tr>\n",
       "    <tr>\n",
       "      <th>Total Count</th>\n",
       "      <th></th>\n",
       "      <th></th>\n",
       "      <th></th>\n",
       "      <th></th>\n",
       "    </tr>\n",
       "  </thead>\n",
       "  <tbody>\n",
       "    <tr>\n",
       "      <th>&lt;10</th>\n",
       "      <td>23.0</td>\n",
       "      <td>$3.35</td>\n",
       "      <td>$77.13</td>\n",
       "      <td>$4.54</td>\n",
       "    </tr>\n",
       "    <tr>\n",
       "      <th>10-14</th>\n",
       "      <td>28.0</td>\n",
       "      <td>$2.96</td>\n",
       "      <td>$82.78</td>\n",
       "      <td>$3.76</td>\n",
       "    </tr>\n",
       "    <tr>\n",
       "      <th>15-19</th>\n",
       "      <td>136.0</td>\n",
       "      <td>$3.04</td>\n",
       "      <td>$412.89</td>\n",
       "      <td>$3.86</td>\n",
       "    </tr>\n",
       "    <tr>\n",
       "      <th>20-24</th>\n",
       "      <td>365.0</td>\n",
       "      <td>$3.05</td>\n",
       "      <td>$1,114.06</td>\n",
       "      <td>$4.32</td>\n",
       "    </tr>\n",
       "    <tr>\n",
       "      <th>25-29</th>\n",
       "      <td>101.0</td>\n",
       "      <td>$2.90</td>\n",
       "      <td>$293.00</td>\n",
       "      <td>$3.81</td>\n",
       "    </tr>\n",
       "    <tr>\n",
       "      <th>30-34</th>\n",
       "      <td>73.0</td>\n",
       "      <td>$2.93</td>\n",
       "      <td>$214.00</td>\n",
       "      <td>$4.12</td>\n",
       "    </tr>\n",
       "    <tr>\n",
       "      <th>35-39</th>\n",
       "      <td>41.0</td>\n",
       "      <td>$3.60</td>\n",
       "      <td>$147.67</td>\n",
       "      <td>$4.76</td>\n",
       "    </tr>\n",
       "    <tr>\n",
       "      <th>40+</th>\n",
       "      <td>13.0</td>\n",
       "      <td>$2.94</td>\n",
       "      <td>$38.24</td>\n",
       "      <td>$3.19</td>\n",
       "    </tr>\n",
       "  </tbody>\n",
       "</table>\n",
       "</div>"
      ],
      "text/plain": [
       "             Purchase Count Average Purchase Price Total Purchase Value  \\\n",
       "Total Count                                                               \n",
       "<10                    23.0                  $3.35               $77.13   \n",
       "10-14                  28.0                  $2.96               $82.78   \n",
       "15-19                 136.0                  $3.04              $412.89   \n",
       "20-24                 365.0                  $3.05            $1,114.06   \n",
       "25-29                 101.0                  $2.90              $293.00   \n",
       "30-34                  73.0                  $2.93              $214.00   \n",
       "35-39                  41.0                  $3.60              $147.67   \n",
       "40+                    13.0                  $2.94               $38.24   \n",
       "\n",
       "            Avg Total Purchase per Person  \n",
       "Total Count                                \n",
       "<10                                 $4.54  \n",
       "10-14                               $3.76  \n",
       "15-19                               $3.86  \n",
       "20-24                               $4.32  \n",
       "25-29                               $3.81  \n",
       "30-34                               $4.12  \n",
       "35-39                               $4.76  \n",
       "40+                                 $3.19  "
      ]
     },
     "execution_count": 49,
     "metadata": {},
     "output_type": "execute_result"
    }
   ],
   "source": [
    "Age_Analysis_df2 = Age_Analysis_df.transpose()\n",
    "Age_Analysis_df2.columns = ['Purchase Count', 'Average Purchase Price', 'Total Purchase Value', 'Avg Total Purchase per Person']\n",
    "Age_Analysis_df2[\"Average Purchase Price\"] = Age_Analysis_df2[\"Average Purchase Price\"].map(\"${:,.2f}\".format)\n",
    "Age_Analysis_df2[\"Total Purchase Value\"] = Age_Analysis_df2[\"Total Purchase Value\"].map(\"${:,.2f}\".format)\n",
    "Age_Analysis_df2[\"Avg Total Purchase per Person\"] = Age_Analysis_df2[\"Avg Total Purchase per Person\"].map(\"${:,.2f}\".format)\n",
    "Age_Analysis_df2"
   ]
  },
  {
   "cell_type": "code",
   "execution_count": null,
   "id": "26129177",
   "metadata": {},
   "outputs": [],
   "source": []
  }
 ],
 "metadata": {
  "kernelspec": {
   "display_name": "Python 3 (ipykernel)",
   "language": "python",
   "name": "python3"
  },
  "language_info": {
   "codemirror_mode": {
    "name": "ipython",
    "version": 3
   },
   "file_extension": ".py",
   "mimetype": "text/x-python",
   "name": "python",
   "nbconvert_exporter": "python",
   "pygments_lexer": "ipython3",
   "version": "3.9.7"
  }
 },
 "nbformat": 4,
 "nbformat_minor": 5
}
